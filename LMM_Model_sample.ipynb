{
  "nbformat": 4,
  "nbformat_minor": 0,
  "metadata": {
    "colab": {
      "provenance": [],
      "include_colab_link": true
    },
    "kernelspec": {
      "name": "python3",
      "display_name": "Python 3"
    },
    "language_info": {
      "name": "python"
    }
  },
  "cells": [
    {
      "cell_type": "markdown",
      "metadata": {
        "id": "view-in-github",
        "colab_type": "text"
      },
      "source": [
        "<a href=\"https://colab.research.google.com/github/AnuradhiRajapaksha/Coupled-Qutrit-Qubit-Quantum-Thermal-Diode/blob/main/LMM_Model_sample.ipynb\" target=\"_parent\"><img src=\"https://colab.research.google.com/assets/colab-badge.svg\" alt=\"Open In Colab\"/></a>"
      ]
    },
    {
      "cell_type": "code",
      "execution_count": 1,
      "metadata": {
        "id": "11zyXQD1F6pK"
      },
      "outputs": [],
      "source": [
        "import pandas as pd"
      ]
    },
    {
      "cell_type": "code",
      "source": [
        "import statsmodels.api as sm"
      ],
      "metadata": {
        "id": "tNt3JMRuGM1_"
      },
      "execution_count": 2,
      "outputs": []
    },
    {
      "cell_type": "code",
      "source": [
        "from statsmodels.formula.api import mixedlm"
      ],
      "metadata": {
        "id": "GFS1ZU5AGQkI"
      },
      "execution_count": 3,
      "outputs": []
    },
    {
      "cell_type": "code",
      "source": [
        "#loading data\n",
        "data=pd.DataFrame({\n",
        "   'Athlete_ID': [1, 1, 2, 2, 3],\n",
        "    'Current_Day_Type': ['Free Day', 'Training Day', 'Training Day', 'Free Day', 'Competition Day'],\n",
        "    'Next_Day_Type': ['Competition Day', 'Competition Day', 'Free Day', 'Free Day', 'Free Day'],\n",
        "    'TST': [7.5, 6.8, 8.0, 7.2, 6.5]\n",
        "})"
      ],
      "metadata": {
        "id": "5P11GbuqGWYv"
      },
      "execution_count": 4,
      "outputs": []
    },
    {
      "cell_type": "code",
      "source": [
        "#Defining the formula and random effects\n",
        "model=mixedlm(\"TST ~ Next_Day_Type\",data,groups=data[\"Athlete_ID\"],re_formula=\"~Current_Day_Type\")\n",
        "result=model.fit()"
      ],
      "metadata": {
        "colab": {
          "base_uri": "https://localhost:8080/"
        },
        "id": "0znywmJvG9Xd",
        "outputId": "940d841e-d37f-44f8-bf8d-31409039255d"
      },
      "execution_count": 5,
      "outputs": [
        {
          "output_type": "stream",
          "name": "stderr",
          "text": [
            "/usr/local/lib/python3.10/dist-packages/statsmodels/base/model.py:607: ConvergenceWarning: Maximum Likelihood optimization failed to converge. Check mle_retvals\n",
            "  warnings.warn(\"Maximum Likelihood optimization failed to \"\n",
            "/usr/local/lib/python3.10/dist-packages/statsmodels/regression/mixed_linear_model.py:2200: ConvergenceWarning: Retrying MixedLM optimization with lbfgs\n",
            "  warnings.warn(\n",
            "/usr/local/lib/python3.10/dist-packages/statsmodels/base/model.py:607: ConvergenceWarning: Maximum Likelihood optimization failed to converge. Check mle_retvals\n",
            "  warnings.warn(\"Maximum Likelihood optimization failed to \"\n",
            "/usr/local/lib/python3.10/dist-packages/statsmodels/regression/mixed_linear_model.py:2200: ConvergenceWarning: Retrying MixedLM optimization with cg\n",
            "  warnings.warn(\n",
            "/usr/local/lib/python3.10/dist-packages/statsmodels/base/model.py:607: ConvergenceWarning: Maximum Likelihood optimization failed to converge. Check mle_retvals\n",
            "  warnings.warn(\"Maximum Likelihood optimization failed to \"\n",
            "/usr/local/lib/python3.10/dist-packages/statsmodels/regression/mixed_linear_model.py:2206: ConvergenceWarning: MixedLM optimization failed, trying a different optimizer may help.\n",
            "  warnings.warn(msg, ConvergenceWarning)\n",
            "/usr/local/lib/python3.10/dist-packages/statsmodels/regression/mixed_linear_model.py:2218: ConvergenceWarning: Gradient optimization failed, |grad| = 0.270904\n",
            "  warnings.warn(msg, ConvergenceWarning)\n",
            "/usr/local/lib/python3.10/dist-packages/statsmodels/regression/mixed_linear_model.py:2261: ConvergenceWarning: The Hessian matrix at the estimated parameter values is not positive definite.\n",
            "  warnings.warn(msg, ConvergenceWarning)\n"
          ]
        }
      ]
    },
    {
      "cell_type": "code",
      "source": [
        "print(result.summary())"
      ],
      "metadata": {
        "colab": {
          "base_uri": "https://localhost:8080/"
        },
        "id": "CqJYd5ocHdbL",
        "outputId": "6befc064-7562-4d9e-d2bc-1c957e1a3f39"
      },
      "execution_count": 6,
      "outputs": [
        {
          "output_type": "stream",
          "name": "stdout",
          "text": [
            "                                             Mixed Linear Model Regression Results\n",
            "================================================================================================================================\n",
            "Model:                                     MixedLM                          Dependent Variable:                          TST    \n",
            "No. Observations:                          5                                Method:                                      REML   \n",
            "No. Groups:                                3                                Scale:                                       0.0238 \n",
            "Min. group size:                           1                                Log-Likelihood:                              -3.1258\n",
            "Max. group size:                           2                                Converged:                                   No     \n",
            "Mean group size:                           1.7                                                                                  \n",
            "--------------------------------------------------------------------------------------------------------------------------------\n",
            "                                                                    Coef.     Std.Err.     z    P>|z|     [0.025       0.975]   \n",
            "--------------------------------------------------------------------------------------------------------------------------------\n",
            "Intercept                                                            7.689         0.653 11.781 0.000         6.410        8.969\n",
            "Next_Day_Type[T.Free Day]                                           -0.938   8588255.502 -0.000 1.000 -16832672.412 16832670.535\n",
            "Group Var                                                            0.255  61784713.172                                        \n",
            "Group x Current_Day_Type[T.Free Day] Cov                            -0.021  90834770.332                                        \n",
            "Current_Day_Type[T.Free Day] Var                                     0.053  69232118.149                                        \n",
            "Group x Current_Day_Type[T.Training Day] Cov                         0.220  78828255.552                                        \n",
            "Current_Day_Type[T.Free Day] x Current_Day_Type[T.Training Day] Cov -0.045  89696920.360                                        \n",
            "Current_Day_Type[T.Training Day] Var                                 0.251 234047276.868                                        \n",
            "================================================================================================================================\n",
            "\n"
          ]
        }
      ]
    },
    {
      "cell_type": "code",
      "source": [
        "print(result.summary())"
      ],
      "metadata": {
        "id": "ru9XOKxlSSRy",
        "outputId": "ae79e460-79d4-42e6-9b2e-6a4fe2c9343c",
        "colab": {
          "base_uri": "https://localhost:8080/"
        }
      },
      "execution_count": 7,
      "outputs": [
        {
          "output_type": "stream",
          "name": "stdout",
          "text": [
            "                                             Mixed Linear Model Regression Results\n",
            "================================================================================================================================\n",
            "Model:                                     MixedLM                          Dependent Variable:                          TST    \n",
            "No. Observations:                          5                                Method:                                      REML   \n",
            "No. Groups:                                3                                Scale:                                       0.0238 \n",
            "Min. group size:                           1                                Log-Likelihood:                              -3.1258\n",
            "Max. group size:                           2                                Converged:                                   No     \n",
            "Mean group size:                           1.7                                                                                  \n",
            "--------------------------------------------------------------------------------------------------------------------------------\n",
            "                                                                    Coef.     Std.Err.     z    P>|z|     [0.025       0.975]   \n",
            "--------------------------------------------------------------------------------------------------------------------------------\n",
            "Intercept                                                            7.689         0.653 11.781 0.000         6.410        8.969\n",
            "Next_Day_Type[T.Free Day]                                           -0.938   8588255.502 -0.000 1.000 -16832672.412 16832670.535\n",
            "Group Var                                                            0.255  61784713.172                                        \n",
            "Group x Current_Day_Type[T.Free Day] Cov                            -0.021  90834770.332                                        \n",
            "Current_Day_Type[T.Free Day] Var                                     0.053  69232118.149                                        \n",
            "Group x Current_Day_Type[T.Training Day] Cov                         0.220  78828255.552                                        \n",
            "Current_Day_Type[T.Free Day] x Current_Day_Type[T.Training Day] Cov -0.045  89696920.360                                        \n",
            "Current_Day_Type[T.Training Day] Var                                 0.251 234047276.868                                        \n",
            "================================================================================================================================\n",
            "\n"
          ]
        }
      ]
    }
  ]
}